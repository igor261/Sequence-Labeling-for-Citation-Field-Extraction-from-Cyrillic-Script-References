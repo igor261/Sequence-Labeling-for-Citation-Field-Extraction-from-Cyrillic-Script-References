{
 "cells": [
  {
   "cell_type": "code",
   "execution_count": null,
   "metadata": {},
   "outputs": [],
   "source": [
    "import pandas as pd\n",
    "import os\n",
    "import numpy as np\n",
    "\n",
    "import re\n",
    "# import json\n",
    "import matplotlib.pyplot as plt\n",
    "\n",
    "import random\n",
    "import shutil\n",
    "\n",
    "from collections import Counter\n",
    "\n",
    "def listdir_path(d):\n",
    "    # Return full path of all files & directories in directory\n",
    "    list_full_path = []\n",
    "    for path in os.listdir(d):\n",
    "        full_path = os.path.join(d, path)\n",
    "        list_full_path.append(full_path)\n",
    "    return list_full_path"
   ]
  },
  {
   "cell_type": "markdown",
   "metadata": {},
   "source": [
    "# Statistics for labelled reference strings"
   ]
  },
  {
   "cell_type": "code",
   "execution_count": null,
   "metadata": {},
   "outputs": [],
   "source": [
    "# apa = os.listdir(\"C:\\\\Masterarbeit\\\\venvPDF\\\\labelled_text\\\\apa_fine_grained_clean\")\n",
    "# gost2003 = os.listdir(\"C:\\\\Masterarbeit\\\\venvPDF\\\\labelled_text\\\\gost2003_fine_grained_clean\")\n",
    "# gost2008 = os.listdir(\"C:\\\\Masterarbeit\\\\venvPDF\\\\labelled_text\\\\gost2008_fine_grained_clean\")\n",
    "# gost2006 = os.listdir(\"C:\\\\Masterarbeit\\\\venvPDF\\\\labelled_text\\\\gost2006_fine_grained_clean\")\n",
    "# print(f\"Style | Anzahl \\n apa   | {len(apa)} \\n gost2003 | {len(gost2003)} \\n gost2006 | {len(gost2006)}\\n gost2008 | {len(gost2008)}\")"
   ]
  },
  {
   "cell_type": "code",
   "execution_count": null,
   "metadata": {},
   "outputs": [],
   "source": [
    "apa = os.listdir(\".\\Sequence-Labeling-for-Reference-Parsing-of-Cyrillic-Script-Scholarly-Data\\Synthetic_data\\Labeled_text_data\\apa_fine_grained_clean\")\n",
    "gost2003 = os.listdir(\".\\Sequence-Labeling-for-Reference-Parsing-of-Cyrillic-Script-Scholarly-Data\\Synthetic_data\\Labeled_text_data\\gost2003_fine_grained_clean\")\n",
    "gost2008 = os.listdir(\".\\Sequence-Labeling-for-Reference-Parsing-of-Cyrillic-Script-Scholarly-Data\\Synthetic_data\\Labeled_text_data\\gost2008_fine_grained_clean\")\n",
    "gost2006 = os.listdir(\".\\Sequence-Labeling-for-Reference-Parsing-of-Cyrillic-Script-Scholarly-Data\\Synthetic_data\\Labeled_text_data\\gost2006_fine_grained_clean\")\n",
    "print(f\"Style | Anzahl \\n apa   | {len(apa)} \\n gost2003 | {len(gost2003)} \\n gost2006 | {len(gost2006)}\\n gost2008 | {len(gost2008)}\")"
   ]
  },
  {
   "cell_type": "code",
   "execution_count": null,
   "metadata": {},
   "outputs": [],
   "source": [
    "# path = \"C:/Masterarbeit/venvPDF/pdf_bib/apa\"\n",
    "path = \".\\Sequence-Labeling-for-Reference-Parsing-of-Cyrillic-Script-Scholarly-Data\\Synthetic_data\\pdf_bibtex_data\\apa\"\n",
    "apa_article = 0\n",
    "apa_conf = 0\n",
    "for file in apa:\n",
    "    text = open(os.path.join(path,file.replace(\".xml\",\".bib\")),\"r\",encoding=\"utf-8\")\n",
    "    text = text.read()\n",
    "    if \"\"\"@article\"\"\" in text:\n",
    "        apa_article+=1\n",
    "    else:\n",
    "        apa_conf += 1\n",
    "\n",
    "print(f\"Apa Style\\n article: {apa_article}\\n conference: {apa_conf}\")"
   ]
  },
  {
   "cell_type": "code",
   "execution_count": null,
   "metadata": {},
   "outputs": [],
   "source": [
    "# path = \"C:/Masterarbeit/venvPDF/pdf_bib/gost2003\"\n",
    "path = \".\\Sequence-Labeling-for-Reference-Parsing-of-Cyrillic-Script-Scholarly-Data\\Synthetic_data\\pdf_bibtex_data\\clean_gost2003\"\n",
    "\n",
    "gost2003_article = 0\n",
    "gost2003_conf = 0\n",
    "for file in gost2003:\n",
    "    text = open(os.path.join(path,file.replace(\".xml\",\".bib\")),\"r\",encoding=\"utf-8\")\n",
    "    text = text.read()\n",
    "    if \"\"\"@article\"\"\" in text:\n",
    "        gost2003_article+=1\n",
    "    else:\n",
    "        gost2003_conf += 1\n",
    "\n",
    "print(f\"gost2003 Style\\n article: {gost2003_article}\\n conference: {gost2003_conf}\")"
   ]
  },
  {
   "cell_type": "code",
   "execution_count": null,
   "metadata": {},
   "outputs": [],
   "source": [
    "# path = \"C:/Masterarbeit/venvPDF/pdf_bib/gost2006\"\n",
    "path = \".\\Sequence-Labeling-for-Reference-Parsing-of-Cyrillic-Script-Scholarly-Data\\Synthetic_data\\pdf_bibtex_data\\clean_gost2006\"\n",
    "\n",
    "gost2006_article = 0\n",
    "gost2006_conf = 0\n",
    "for file in gost2006:\n",
    "    text = open(os.path.join(path,file.replace(\".xml\",\".bib\")),\"r\",encoding=\"utf-8\")\n",
    "    text = text.read()\n",
    "    if \"\"\"@article\"\"\" in text:\n",
    "        gost2006_article+=1\n",
    "    else:\n",
    "        gost2006_conf += 1\n",
    "\n",
    "print(f\"gost2006 Style\\n article: {gost2006_article}\\n conference: {gost2006_conf}\")"
   ]
  },
  {
   "cell_type": "code",
   "execution_count": null,
   "metadata": {},
   "outputs": [],
   "source": [
    "# path = \"C:/Masterarbeit/venvPDF/pdf_bib/gost2008\"\n",
    "path = \".\\Sequence-Labeling-for-Reference-Parsing-of-Cyrillic-Script-Scholarly-Data\\Synthetic_data\\pdf_bibtex_data\\clean_gost2008\"\n",
    "\n",
    "gost2008_article = 0\n",
    "gost2008_conf = 0\n",
    "for file in gost2008:\n",
    "    text = open(os.path.join(path,file.replace(\".xml\",\".bib\")),\"r\",encoding=\"utf-8\")\n",
    "    text = text.read()\n",
    "    if \"\"\"@article\"\"\" in text:\n",
    "        gost2008_article+=1\n",
    "    else:\n",
    "        gost2008_conf += 1\n",
    "\n",
    "print(f\"gost2008 Style\\n article: {gost2008_article}\\n conference: {gost2008_conf}\")"
   ]
  },
  {
   "cell_type": "markdown",
   "metadata": {},
   "source": [
    "# Label Statistics"
   ]
  },
  {
   "cell_type": "markdown",
   "metadata": {},
   "source": [
    "## ALL"
   ]
  },
  {
   "cell_type": "code",
   "execution_count": null,
   "metadata": {},
   "outputs": [],
   "source": [
    "# apa = listdir_path(\"C:\\\\Masterarbeit\\\\venvPDF\\\\labelled_text\\\\apa_fine_grained_clean\")\n",
    "# gost2003 = listdir_path(\"C:\\\\Masterarbeit\\\\venvPDF\\\\labelled_text\\\\gost2003_fine_grained_clean\")\n",
    "# gost2008 = listdir_path(\"C:\\\\Masterarbeit\\\\venvPDF\\\\labelled_text\\\\gost2008_fine_grained_clean\")\n",
    "# gost2006 = listdir_path(\"C:\\\\Masterarbeit\\\\venvPDF\\\\labelled_text\\\\gost2006_fine_grained_clean\")\n",
    "\n",
    "# files = apa + gost2003 + gost2008 + gost2006\n",
    "# len(files)\n",
    "# # apa"
   ]
  },
  {
   "cell_type": "code",
   "execution_count": null,
   "metadata": {},
   "outputs": [],
   "source": [
    "apa = listdir_path(\".\\Sequence-Labeling-for-Reference-Parsing-of-Cyrillic-Script-Scholarly-Data\\Synthetic_data\\Labeled_text_data\\apa_fine_grained_clean\")\n",
    "gost2003 = listdir_path(\".\\Sequence-Labeling-for-Reference-Parsing-of-Cyrillic-Script-Scholarly-Data\\Synthetic_data\\Labeled_text_data\\gost2003_fine_grained_clean\")\n",
    "gost2008 = listdir_path(\".\\Sequence-Labeling-for-Reference-Parsing-of-Cyrillic-Script-Scholarly-Data\\Synthetic_data\\Labeled_text_data\\gost2008_fine_grained_clean\")\n",
    "gost2006 = listdir_path(\".\\Sequence-Labeling-for-Reference-Parsing-of-Cyrillic-Script-Scholarly-Data\\Synthetic_data\\Labeled_text_data\\gost2006_fine_grained_clean\")\n",
    "\n",
    "files = apa + gost2003 + gost2008 + gost2006\n",
    "len(files)\n",
    "# apa"
   ]
  },
  {
   "cell_type": "code",
   "execution_count": null,
   "metadata": {},
   "outputs": [],
   "source": [
    "all_ref = []\n",
    "for f in files:\n",
    "    file = open(f,\"r\",encoding=\"utf-8\")\n",
    "    ref = file.read()\n",
    "    all_ref.append(ref)\n",
    "len(all_ref)"
   ]
  },
  {
   "cell_type": "code",
   "execution_count": null,
   "metadata": {},
   "outputs": [],
   "source": [
    "label_list = []\n",
    "all_labels = []\n",
    "for ref in all_ref:\n",
    "    labels = []\n",
    "    for t in ref.split(\"\"\">\"\"\"):\n",
    "#         print(t)\n",
    "        if \"</\" not in t and \"\"\"<\"\"\" in t:\n",
    "            labels.append(t.split(\"<\")[1])\n",
    "#     print(labels)    \n",
    "    label_list.append(list(set(labels)))\n",
    "    all_labels += list(set(labels))"
   ]
  },
  {
   "cell_type": "code",
   "execution_count": null,
   "metadata": {
    "scrolled": true
   },
   "outputs": [],
   "source": [
    "y = Counter(all_labels)\n",
    "y.most_common()"
   ]
  },
  {
   "cell_type": "code",
   "execution_count": null,
   "metadata": {},
   "outputs": [],
   "source": [
    "# path = \"C:/Masterarbeit/venvPDF/pdf_bib/gost2008\"\n",
    "path = \".\\Sequence-Labeling-for-Reference-Parsing-of-Cyrillic-Script-Scholarly-Data\\Synthetic_data\\pdf_bibtex_data\\clean_gost2008\"\n",
    "\n",
    "labels_article = []\n",
    "labels_conf = []\n",
    "for f in files:\n",
    "    file = open(f,\"r\",encoding=\"utf-8\")\n",
    "    ref = file.read()\n",
    "    labels = []\n",
    "    for t in ref.split(\"\"\">\"\"\"):\n",
    "#         print(t)\n",
    "        if \"</\" not in t and \"\"\"<\"\"\" in t:\n",
    "            labels.append(t.split(\"<\")[1])\n",
    "#     print(labels)    \n",
    "    labels = list(set(labels))\n",
    "    path_bib = os.path.join(path,f.split(\"\\\\\")[5].replace(\".xml\",\".bib\"))\n",
    "    text = open(path_bib,\"r\",encoding=\"utf-8\")\n",
    "    text = text.read()\n",
    "    if \"\"\"@article\"\"\" in text:\n",
    "        labels_article.append(labels)\n",
    "    else:\n",
    "        labels_conf.append(labels)"
   ]
  },
  {
   "cell_type": "code",
   "execution_count": null,
   "metadata": {},
   "outputs": [],
   "source": [
    "label_art2 = []\n",
    "for l in labels_article:\n",
    "    label_art2 += l"
   ]
  },
  {
   "cell_type": "code",
   "execution_count": null,
   "metadata": {},
   "outputs": [],
   "source": [
    "len(labels_article)"
   ]
  },
  {
   "cell_type": "code",
   "execution_count": null,
   "metadata": {},
   "outputs": [],
   "source": [
    "art = Counter(label_art2)\n",
    "art.most_common()"
   ]
  },
  {
   "cell_type": "code",
   "execution_count": null,
   "metadata": {},
   "outputs": [],
   "source": [
    "label_conf2 = []\n",
    "for l in labels_conf:\n",
    "    label_conf2 += l"
   ]
  },
  {
   "cell_type": "code",
   "execution_count": null,
   "metadata": {},
   "outputs": [],
   "source": [
    "len(labels_conf)"
   ]
  },
  {
   "cell_type": "code",
   "execution_count": null,
   "metadata": {},
   "outputs": [],
   "source": [
    "conf = Counter(label_conf2)\n",
    "conf.most_common()"
   ]
  },
  {
   "cell_type": "code",
   "execution_count": null,
   "metadata": {},
   "outputs": [],
   "source": [
    "# ALL\n",
    "y = Counter(label_conf2  + label_art2)\n",
    "y.most_common()"
   ]
  }
 ],
 "metadata": {
  "kernelspec": {
   "display_name": "Python3.6-64-tensorflow1.11",
   "language": "python",
   "name": "python3.6-64-tensorflow1.11"
  },
  "language_info": {
   "codemirror_mode": {
    "name": "ipython",
    "version": 3
   },
   "file_extension": ".py",
   "mimetype": "text/x-python",
   "name": "python",
   "nbconvert_exporter": "python",
   "pygments_lexer": "ipython3",
   "version": "3.7.7"
  }
 },
 "nbformat": 4,
 "nbformat_minor": 4
}
